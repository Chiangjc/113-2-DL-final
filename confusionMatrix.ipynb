{
 "cells": [
  {
   "cell_type": "code",
   "execution_count": null,
   "id": "5059a2c2",
   "metadata": {},
   "outputs": [],
   "source": [
    "from sklearn.metrics import confusion_matrix, ConfusionMatrixDisplay\n",
    "import matplotlib.pyplot as plt\n",
    "import numpy as np\n",
    "\n",
    "num_classes = 7  # 改為你的類別數\n",
    "labels = ['chiikawa', 'hachiware', 'kurimanju', 'momonga', 'rakko', 'shisa', 'usagi']  # 類別名稱\n",
    "\n",
    "def read_first_class(filepath):\n",
    "    if not os.path.exists(filepath): return None\n",
    "    with open(filepath, 'r') as f:\n",
    "        lines = f.readlines()\n",
    "        if not lines: return None\n",
    "        return int(float(lines[0].split()[0]))\n",
    "\n",
    "# 改這\n",
    "true_dir = \"/content/resized_dataset/test/labels\" # label path \n",
    "pred_dir = \"runs/detect/exp2/labels\" # pred path\n",
    "\n",
    "y_true = []\n",
    "y_pred = []\n",
    "\n",
    "for file in sorted(os.listdir(true_dir)):\n",
    "    true_path = os.path.join(true_dir, file)\n",
    "    pred_path = os.path.join(pred_dir, file)\n",
    "\n",
    "    true_cls = read_first_class(true_path)\n",
    "    pred_cls = read_first_class(pred_path)\n",
    "\n",
    "    if true_cls is not None and pred_cls is not None:\n",
    "        y_true.append(true_cls)\n",
    "        y_pred.append(pred_cls)\n",
    "\n",
    "# 計算 7x7 混淆矩陣\n",
    "cm = confusion_matrix(y_true, y_pred, labels=list(range(num_classes)))\n",
    "\n",
    "# 繪圖\n",
    "disp = ConfusionMatrixDisplay(confusion_matrix=cm, display_labels=labels)\n",
    "fig, ax = plt.subplots(figsize=(7, 7))\n",
    "disp.plot(cmap=plt.cm.Blues, ax=ax, xticks_rotation='vertical')\n",
    "plt.title(\"7x7 Confusion Matrix\")\n",
    "plt.show()"
   ]
  }
 ],
 "metadata": {
  "kernelspec": {
   "display_name": "Python 3",
   "language": "python",
   "name": "python3"
  },
  "language_info": {
   "name": "python",
   "version": "3.12.4"
  }
 },
 "nbformat": 4,
 "nbformat_minor": 5
}
